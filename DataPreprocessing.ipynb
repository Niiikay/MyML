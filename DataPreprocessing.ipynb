{
  "nbformat": 4,
  "nbformat_minor": 0,
  "metadata": {
    "colab": {
      "name": "DataPreprocessing.ipynb",
      "provenance": [],
      "mount_file_id": "1PJT_zI9JlVhRx5uXubHew6hMl7JKZ3T6",
      "authorship_tag": "ABX9TyNch2m8JtAlNNny+UJXSHn6",
      "include_colab_link": true
    },
    "kernelspec": {
      "name": "python3",
      "display_name": "Python 3"
    },
    "language_info": {
      "name": "python"
    }
  },
  "cells": [
    {
      "cell_type": "markdown",
      "metadata": {
        "id": "view-in-github",
        "colab_type": "text"
      },
      "source": [
        "<a href=\"https://colab.research.google.com/github/Niiikay/MyML/blob/main/DataPreprocessing.ipynb\" target=\"_parent\"><img src=\"https://colab.research.google.com/assets/colab-badge.svg\" alt=\"Open In Colab\"/></a>"
      ]
    },
    {
      "cell_type": "markdown",
      "metadata": {
        "id": "Xl-3kIE04AGE"
      },
      "source": [
        "Importing Libraries"
      ]
    },
    {
      "cell_type": "code",
      "metadata": {
        "id": "76GI7ONI19kI"
      },
      "source": [
        "import numpy as np                # numpy will allow us to work with arrays\n",
        "import pandas as pd               # allows us to import the dataset, create the matrix of features and dependent variables\n",
        "import matplotlib.pyplot as plt   # matplotlib for creating visualizations"
      ],
      "execution_count": 1,
      "outputs": []
    },
    {
      "cell_type": "markdown",
      "metadata": {
        "id": "KrZizFYV5sF5"
      },
      "source": [
        "Importing the dataset"
      ]
    },
    {
      "cell_type": "code",
      "metadata": {
        "id": "V1ThaDei34qS"
      },
      "source": [
        "dataset =  pd.read_csv('/content/drive/MyDrive/MLUdemy/Codes and Dataset/Part 1 - Data Preprocessing/Sec-2 Part 1 - Data Preprocessing/Python/Data.csv')\n",
        "\n",
        "# pd has a function called iloc that locates indexes of the columns and rows\n",
        "X = dataset.iloc[:,:-1].values # takes the matrix of features\n",
        "y = dataset.iloc[:,-1].values # takes the dependent variable"
      ],
      "execution_count": 2,
      "outputs": []
    },
    {
      "cell_type": "code",
      "metadata": {
        "colab": {
          "base_uri": "https://localhost:8080/"
        },
        "id": "FhGw5XkoMQk3",
        "outputId": "45efbe5d-7e5e-434b-94e9-64f1b7639a4b"
      },
      "source": [
        "print(X)"
      ],
      "execution_count": 3,
      "outputs": [
        {
          "output_type": "stream",
          "text": [
            "[['France' 44.0 72000.0]\n",
            " ['Spain' 27.0 48000.0]\n",
            " ['Germany' 30.0 54000.0]\n",
            " ['Spain' 38.0 61000.0]\n",
            " ['Germany' 40.0 nan]\n",
            " ['France' 35.0 58000.0]\n",
            " ['Spain' nan 52000.0]\n",
            " ['France' 48.0 79000.0]\n",
            " ['Germany' 50.0 83000.0]\n",
            " ['France' 37.0 67000.0]]\n"
          ],
          "name": "stdout"
        }
      ]
    },
    {
      "cell_type": "code",
      "metadata": {
        "colab": {
          "base_uri": "https://localhost:8080/"
        },
        "id": "hhH7WpvSMUBG",
        "outputId": "84098816-23ad-422a-cca3-62ef5f15f55e"
      },
      "source": [
        "print(y)"
      ],
      "execution_count": 4,
      "outputs": [
        {
          "output_type": "stream",
          "text": [
            "['No' 'Yes' 'No' 'No' 'Yes' 'Yes' 'No' 'Yes' 'No' 'Yes']\n"
          ],
          "name": "stdout"
        }
      ]
    },
    {
      "cell_type": "markdown",
      "metadata": {
        "id": "5DMCuc4ONFQF"
      },
      "source": [
        "Taking care of missing data"
      ]
    },
    {
      "cell_type": "code",
      "metadata": {
        "id": "tM-hc6iwNDoj"
      },
      "source": [
        "from sklearn.impute import SimpleImputer\n",
        "# from library.module import class\n",
        "\n",
        "#apply this on all numerical value columns\n",
        "imputer = SimpleImputer(missing_values=np.nan, strategy='mean')\n",
        "imputer.fit(X[:, 1:3]) # contains only numerical values\n",
        "\n",
        "# transform method replaces the missing data\n",
        "# Change column 2 and 3 from the original, here, X[:, 1:3]\n",
        "X[:, 1:3]= imputer.transform(X[:, 1:3]) \n"
      ],
      "execution_count": 5,
      "outputs": []
    },
    {
      "cell_type": "code",
      "metadata": {
        "colab": {
          "base_uri": "https://localhost:8080/"
        },
        "id": "tZ46p02YQoa1",
        "outputId": "7b43d52c-4bef-47db-8720-afae0f8f2a97"
      },
      "source": [
        "print(X)"
      ],
      "execution_count": 6,
      "outputs": [
        {
          "output_type": "stream",
          "text": [
            "[['France' 44.0 72000.0]\n",
            " ['Spain' 27.0 48000.0]\n",
            " ['Germany' 30.0 54000.0]\n",
            " ['Spain' 38.0 61000.0]\n",
            " ['Germany' 40.0 63777.77777777778]\n",
            " ['France' 35.0 58000.0]\n",
            " ['Spain' 38.77777777777778 52000.0]\n",
            " ['France' 48.0 79000.0]\n",
            " ['Germany' 50.0 83000.0]\n",
            " ['France' 37.0 67000.0]]\n"
          ],
          "name": "stdout"
        }
      ]
    },
    {
      "cell_type": "markdown",
      "metadata": {
        "id": "IDZwmNO0L8Xm"
      },
      "source": [
        "Encoding categorical data (Categorical to Numerical)"
      ]
    },
    {
      "cell_type": "code",
      "metadata": {
        "id": "XoAQT0n6MAD5"
      },
      "source": [
        "from sklearn.compose import ColumnTransformer\n",
        "from sklearn.preprocessing import OneHotEncoder\n",
        "\n",
        "#create an object if the column transformer class, here, ct.\n",
        "#In transformers, the format expected is [()], the first argument just syas what we want to perform and the second element is the class name\n",
        "# The third argument in transformers is the index number, which is in this case, the first column. Hence 0\n",
        "# If we don't specify passthrough then the other columns will be dropped\n",
        "ct = ColumnTransformer(transformers=[('encoder', OneHotEncoder(), [0])], remainder='passthrough')\n",
        "\n",
        "#Fit tranform method soesn't actually return the output of the data in numpy array\n",
        "#hence it is compulsory to have X as a numpy array becuase this will be expected by the machine learning model\n",
        "X = np.array(ct.fit_transform(X))"
      ],
      "execution_count": 7,
      "outputs": []
    },
    {
      "cell_type": "code",
      "metadata": {
        "colab": {
          "base_uri": "https://localhost:8080/"
        },
        "id": "UsS97tPHm2Kd",
        "outputId": "5dfde00b-6482-4b2e-ad19-08e296e3d176"
      },
      "source": [
        "print(X)"
      ],
      "execution_count": 8,
      "outputs": [
        {
          "output_type": "stream",
          "text": [
            "[[1.0 0.0 0.0 44.0 72000.0]\n",
            " [0.0 0.0 1.0 27.0 48000.0]\n",
            " [0.0 1.0 0.0 30.0 54000.0]\n",
            " [0.0 0.0 1.0 38.0 61000.0]\n",
            " [0.0 1.0 0.0 40.0 63777.77777777778]\n",
            " [1.0 0.0 0.0 35.0 58000.0]\n",
            " [0.0 0.0 1.0 38.77777777777778 52000.0]\n",
            " [1.0 0.0 0.0 48.0 79000.0]\n",
            " [0.0 1.0 0.0 50.0 83000.0]\n",
            " [1.0 0.0 0.0 37.0 67000.0]]\n"
          ],
          "name": "stdout"
        }
      ]
    },
    {
      "cell_type": "markdown",
      "metadata": {
        "id": "4XD5MWyMm7VR"
      },
      "source": [
        "Encoding the dependent variable (Encoding the class)( Converting Yes/No into 1 and 0)"
      ]
    },
    {
      "cell_type": "code",
      "metadata": {
        "id": "IoCngBgom6Pw"
      },
      "source": [
        "from sklearn.preprocessing import LabelEncoder\n",
        "le = LabelEncoder()\n",
        "y = le.fit_transform(y)"
      ],
      "execution_count": 9,
      "outputs": []
    },
    {
      "cell_type": "code",
      "metadata": {
        "colab": {
          "base_uri": "https://localhost:8080/"
        },
        "id": "OnSK0F8roDJe",
        "outputId": "ce3063e0-9414-47a7-ec3e-900f6e712412"
      },
      "source": [
        "print(y)"
      ],
      "execution_count": 10,
      "outputs": [
        {
          "output_type": "stream",
          "text": [
            "[0 1 0 0 1 1 0 1 0 1]\n"
          ],
          "name": "stdout"
        }
      ]
    },
    {
      "cell_type": "markdown",
      "metadata": {
        "id": "49ZauOU_oSEs"
      },
      "source": [
        "Splitting Data into the Training and Test Dataset"
      ]
    },
    {
      "cell_type": "code",
      "metadata": {
        "id": "3yPpGTKBoaQV"
      },
      "source": [
        "# Feature Scaling should be applied after splitting into training and test set\n",
        "# Training set = where you train your Machine learning model on existing observations\n",
        "# Test set = where you're going to evaluate the performance of the model on new observations\n",
        "\n",
        "# Why shouldn't you apply feature scaling before the split? To prevent information leakage on the test set\n",
        "# X_train, y_train = matrix of features and dependent variable of the training dataset\n",
        "# X_test, y_test = matrix of features and dependent variable of the test dataset\n",
        "\n",
        "from sklearn.model_selection import train_test_split\n",
        "X_train, X_test, y_train, y_test = train_test_split(X, y, test_size = 0.2, random_state = 1) \n",
        "    # test size = 0.2 means that, 2 observations go into test set and 8 in training set"
      ],
      "execution_count": 11,
      "outputs": []
    },
    {
      "cell_type": "code",
      "metadata": {
        "colab": {
          "base_uri": "https://localhost:8080/"
        },
        "id": "AvcKPM9Yw-Ze",
        "outputId": "41a0fbfa-606d-4037-c188-6a7fa396f395"
      },
      "source": [
        "print(X_train)"
      ],
      "execution_count": 12,
      "outputs": [
        {
          "output_type": "stream",
          "text": [
            "[[0.0 0.0 1.0 38.77777777777778 52000.0]\n",
            " [0.0 1.0 0.0 40.0 63777.77777777778]\n",
            " [1.0 0.0 0.0 44.0 72000.0]\n",
            " [0.0 0.0 1.0 38.0 61000.0]\n",
            " [0.0 0.0 1.0 27.0 48000.0]\n",
            " [1.0 0.0 0.0 48.0 79000.0]\n",
            " [0.0 1.0 0.0 50.0 83000.0]\n",
            " [1.0 0.0 0.0 35.0 58000.0]]\n"
          ],
          "name": "stdout"
        }
      ]
    },
    {
      "cell_type": "code",
      "metadata": {
        "colab": {
          "base_uri": "https://localhost:8080/"
        },
        "id": "Gi9_i7R1xA-S",
        "outputId": "9dec8584-8d54-4cf9-84ce-89519246e30a"
      },
      "source": [
        "print(X_test)"
      ],
      "execution_count": 13,
      "outputs": [
        {
          "output_type": "stream",
          "text": [
            "[[0.0 1.0 0.0 30.0 54000.0]\n",
            " [1.0 0.0 0.0 37.0 67000.0]]\n"
          ],
          "name": "stdout"
        }
      ]
    },
    {
      "cell_type": "code",
      "metadata": {
        "colab": {
          "base_uri": "https://localhost:8080/"
        },
        "id": "JaDJTJL7xBoX",
        "outputId": "577bbfcd-09fa-45c6-9da9-a83f80b1458c"
      },
      "source": [
        "print(y_train)"
      ],
      "execution_count": 14,
      "outputs": [
        {
          "output_type": "stream",
          "text": [
            "[0 1 0 0 1 1 0 1]\n"
          ],
          "name": "stdout"
        }
      ]
    },
    {
      "cell_type": "code",
      "metadata": {
        "colab": {
          "base_uri": "https://localhost:8080/"
        },
        "id": "Y-6X5ZUJxBZI",
        "outputId": "ce77eaf7-4266-4287-dc67-d36c1ac1e185"
      },
      "source": [
        "print(y_test)"
      ],
      "execution_count": 15,
      "outputs": [
        {
          "output_type": "stream",
          "text": [
            "[0 1]\n"
          ],
          "name": "stdout"
        }
      ]
    },
    {
      "cell_type": "markdown",
      "metadata": {
        "id": "JJLoJSm8xdLJ"
      },
      "source": [
        "Feature Scaling"
      ]
    },
    {
      "cell_type": "code",
      "metadata": {
        "id": "Q5OlwMJjxmpG"
      },
      "source": [
        "# FS is applied to have all the data in the same scale so that some data don't dominate the other\n",
        "# Two ways: Standardisation(all will take values between -3 and +3) and Normalisation(all values of features between -1 and +1)\n",
        "# Standardisation always works in any given condition, normalisation gets applied only under certain circumstances\n",
        "# Do we have to apply FS to the dummy variables in the matrix of features? No \n",
        "\n",
        "from sklearn.preprocessing import StandardScaler\n",
        "sc = StandardScaler()\n",
        "X_train[:,3:] = sc.fit_transform(X_train[:,3:])\n",
        "X_test[:,3:] = sc.fit_transform(X_test[:,3:])\n"
      ],
      "execution_count": 16,
      "outputs": []
    },
    {
      "cell_type": "code",
      "metadata": {
        "colab": {
          "base_uri": "https://localhost:8080/"
        },
        "id": "HikUivN8400Z",
        "outputId": "5c34f704-2df8-477f-ee33-7ad4f2f2e0b1"
      },
      "source": [
        "print(X_train)"
      ],
      "execution_count": 18,
      "outputs": [
        {
          "output_type": "stream",
          "text": [
            "[[0.0 0.0 1.0 -0.19159184384578545 -1.0781259408412425]\n",
            " [0.0 1.0 0.0 -0.014117293757057777 -0.07013167641635372]\n",
            " [1.0 0.0 0.0 0.566708506533324 0.633562432710455]\n",
            " [0.0 0.0 1.0 -0.30453019390224867 -0.30786617274297867]\n",
            " [0.0 0.0 1.0 -1.9018011447007988 -1.420463615551582]\n",
            " [1.0 0.0 0.0 1.1475343068237058 1.232653363453549]\n",
            " [0.0 1.0 0.0 1.4379472069688968 1.5749910381638885]\n",
            " [1.0 0.0 0.0 -0.7401495441200351 -0.5646194287757332]]\n"
          ],
          "name": "stdout"
        }
      ]
    },
    {
      "cell_type": "code",
      "metadata": {
        "colab": {
          "base_uri": "https://localhost:8080/"
        },
        "id": "LBCxLGYi47Vu",
        "outputId": "3659bd9f-ef65-441b-cbaa-6cc74224d03c"
      },
      "source": [
        "print(X_test)"
      ],
      "execution_count": 19,
      "outputs": [
        {
          "output_type": "stream",
          "text": [
            "[[0.0 1.0 0.0 -1.0 -1.0]\n",
            " [1.0 0.0 0.0 1.0 1.0]]\n"
          ],
          "name": "stdout"
        }
      ]
    }
  ]
}